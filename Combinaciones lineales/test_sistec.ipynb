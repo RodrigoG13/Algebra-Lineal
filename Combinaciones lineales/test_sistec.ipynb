{
 "cells": [
  {
   "cell_type": "code",
   "execution_count": 2,
   "metadata": {},
   "outputs": [],
   "source": [
    "import numpy as np"
   ]
  },
  {
   "cell_type": "code",
   "execution_count": 5,
   "metadata": {},
   "outputs": [
    {
     "ename": "LinAlgError",
     "evalue": "Singular matrix",
     "output_type": "error",
     "traceback": [
      "\u001b[1;31m---------------------------------------------------------------------------\u001b[0m",
      "\u001b[1;31mLinAlgError\u001b[0m                               Traceback (most recent call last)",
      "\u001b[1;32mc:\\Users\\rodri\\OneDrive\\Documentos\\ESCOM\\2 SEMESTRE\\ALGEBRA LINEAL\\2do Parcial\\Programa de combinaciones lineales\\test_sistec.ipynb Cell 2'\u001b[0m in \u001b[0;36m<cell line: 3>\u001b[1;34m()\u001b[0m\n\u001b[0;32m      <a href='vscode-notebook-cell:/c%3A/Users/rodri/OneDrive/Documentos/ESCOM/2%20SEMESTRE/ALGEBRA%20LINEAL/2do%20Parcial/Programa%20de%20combinaciones%20lineales/test_sistec.ipynb#ch0000002?line=0'>1</a>\u001b[0m a \u001b[39m=\u001b[39m np\u001b[39m.\u001b[39marray([[\u001b[39m0\u001b[39m,\u001b[39m2\u001b[39m,\u001b[39m3\u001b[39m], [\u001b[39m2\u001b[39m,\u001b[39m-\u001b[39m\u001b[39m6\u001b[39m,\u001b[39m7\u001b[39m], [\u001b[39m1\u001b[39m,\u001b[39m-\u001b[39m\u001b[39m2\u001b[39m,\u001b[39m5\u001b[39m]])\n\u001b[0;32m      <a href='vscode-notebook-cell:/c%3A/Users/rodri/OneDrive/Documentos/ESCOM/2%20SEMESTRE/ALGEBRA%20LINEAL/2do%20Parcial/Programa%20de%20combinaciones%20lineales/test_sistec.ipynb#ch0000002?line=1'>2</a>\u001b[0m b \u001b[39m=\u001b[39m np\u001b[39m.\u001b[39marray([\u001b[39m4\u001b[39m,\u001b[39m15\u001b[39m,\u001b[39m10\u001b[39m])\n\u001b[1;32m----> <a href='vscode-notebook-cell:/c%3A/Users/rodri/OneDrive/Documentos/ESCOM/2%20SEMESTRE/ALGEBRA%20LINEAL/2do%20Parcial/Programa%20de%20combinaciones%20lineales/test_sistec.ipynb#ch0000002?line=2'>3</a>\u001b[0m x \u001b[39m=\u001b[39m np\u001b[39m.\u001b[39;49mlinalg\u001b[39m.\u001b[39;49msolve(a,b)\n\u001b[0;32m      <a href='vscode-notebook-cell:/c%3A/Users/rodri/OneDrive/Documentos/ESCOM/2%20SEMESTRE/ALGEBRA%20LINEAL/2do%20Parcial/Programa%20de%20combinaciones%20lineales/test_sistec.ipynb#ch0000002?line=3'>4</a>\u001b[0m \u001b[39mprint\u001b[39m(x)\n",
      "File \u001b[1;32m<__array_function__ internals>:180\u001b[0m, in \u001b[0;36msolve\u001b[1;34m(*args, **kwargs)\u001b[0m\n",
      "File \u001b[1;32m~\\AppData\\Local\\Programs\\Python\\Python310\\lib\\site-packages\\numpy\\linalg\\linalg.py:393\u001b[0m, in \u001b[0;36msolve\u001b[1;34m(a, b)\u001b[0m\n\u001b[0;32m    <a href='file:///c%3A/Users/rodri/AppData/Local/Programs/Python/Python310/lib/site-packages/numpy/linalg/linalg.py?line=390'>391</a>\u001b[0m signature \u001b[39m=\u001b[39m \u001b[39m'\u001b[39m\u001b[39mDD->D\u001b[39m\u001b[39m'\u001b[39m \u001b[39mif\u001b[39;00m isComplexType(t) \u001b[39melse\u001b[39;00m \u001b[39m'\u001b[39m\u001b[39mdd->d\u001b[39m\u001b[39m'\u001b[39m\n\u001b[0;32m    <a href='file:///c%3A/Users/rodri/AppData/Local/Programs/Python/Python310/lib/site-packages/numpy/linalg/linalg.py?line=391'>392</a>\u001b[0m extobj \u001b[39m=\u001b[39m get_linalg_error_extobj(_raise_linalgerror_singular)\n\u001b[1;32m--> <a href='file:///c%3A/Users/rodri/AppData/Local/Programs/Python/Python310/lib/site-packages/numpy/linalg/linalg.py?line=392'>393</a>\u001b[0m r \u001b[39m=\u001b[39m gufunc(a, b, signature\u001b[39m=\u001b[39;49msignature, extobj\u001b[39m=\u001b[39;49mextobj)\n\u001b[0;32m    <a href='file:///c%3A/Users/rodri/AppData/Local/Programs/Python/Python310/lib/site-packages/numpy/linalg/linalg.py?line=394'>395</a>\u001b[0m \u001b[39mreturn\u001b[39;00m wrap(r\u001b[39m.\u001b[39mastype(result_t, copy\u001b[39m=\u001b[39m\u001b[39mFalse\u001b[39;00m))\n",
      "File \u001b[1;32m~\\AppData\\Local\\Programs\\Python\\Python310\\lib\\site-packages\\numpy\\linalg\\linalg.py:88\u001b[0m, in \u001b[0;36m_raise_linalgerror_singular\u001b[1;34m(err, flag)\u001b[0m\n\u001b[0;32m     <a href='file:///c%3A/Users/rodri/AppData/Local/Programs/Python/Python310/lib/site-packages/numpy/linalg/linalg.py?line=86'>87</a>\u001b[0m \u001b[39mdef\u001b[39;00m \u001b[39m_raise_linalgerror_singular\u001b[39m(err, flag):\n\u001b[1;32m---> <a href='file:///c%3A/Users/rodri/AppData/Local/Programs/Python/Python310/lib/site-packages/numpy/linalg/linalg.py?line=87'>88</a>\u001b[0m     \u001b[39mraise\u001b[39;00m LinAlgError(\u001b[39m\"\u001b[39m\u001b[39mSingular matrix\u001b[39m\u001b[39m\"\u001b[39m)\n",
      "\u001b[1;31mLinAlgError\u001b[0m: Singular matrix"
     ]
    }
   ],
   "source": [
    "a = np.array([[0,2,3], [2,-6,7], [1,-2,5]])\n",
    "b = np.array([4,15,10])\n",
    "x = np.linalg.solve(a,b)\n",
    "print(x)"
   ]
  },
  {
   "cell_type": "code",
   "execution_count": 4,
   "metadata": {},
   "outputs": [
    {
     "ename": "LinAlgError",
     "evalue": "Singular matrix",
     "output_type": "error",
     "traceback": [
      "\u001b[1;31m---------------------------------------------------------------------------\u001b[0m",
      "\u001b[1;31mLinAlgError\u001b[0m                               Traceback (most recent call last)",
      "\u001b[1;32mc:\\Users\\rodri\\OneDrive\\Documentos\\ESCOM\\2 SEMESTRE\\ALGEBRA LINEAL\\2do Parcial\\Programa de combinaciones lineales\\test_sistec.ipynb Cell 2'\u001b[0m in \u001b[0;36m<cell line: 3>\u001b[1;34m()\u001b[0m\n\u001b[0;32m      <a href='vscode-notebook-cell:/c%3A/Users/rodri/OneDrive/Documentos/ESCOM/2%20SEMESTRE/ALGEBRA%20LINEAL/2do%20Parcial/Programa%20de%20combinaciones%20lineales/test_sistec.ipynb#ch0000001?line=0'>1</a>\u001b[0m a \u001b[39m=\u001b[39m np\u001b[39m.\u001b[39marray([[\u001b[39m1\u001b[39m,\u001b[39m2\u001b[39m,\u001b[39m3\u001b[39m], [\u001b[39m4\u001b[39m,\u001b[39m5\u001b[39m,\u001b[39m6\u001b[39m], [\u001b[39m2\u001b[39m,\u001b[39m7\u001b[39m,\u001b[39m12\u001b[39m]])\n\u001b[0;32m      <a href='vscode-notebook-cell:/c%3A/Users/rodri/OneDrive/Documentos/ESCOM/2%20SEMESTRE/ALGEBRA%20LINEAL/2do%20Parcial/Programa%20de%20combinaciones%20lineales/test_sistec.ipynb#ch0000001?line=1'>2</a>\u001b[0m b \u001b[39m=\u001b[39m np\u001b[39m.\u001b[39marray([\u001b[39m9\u001b[39m,\u001b[39m24\u001b[39m,\u001b[39m30\u001b[39m])\n\u001b[1;32m----> <a href='vscode-notebook-cell:/c%3A/Users/rodri/OneDrive/Documentos/ESCOM/2%20SEMESTRE/ALGEBRA%20LINEAL/2do%20Parcial/Programa%20de%20combinaciones%20lineales/test_sistec.ipynb#ch0000001?line=2'>3</a>\u001b[0m x \u001b[39m=\u001b[39m np\u001b[39m.\u001b[39;49mlinalg\u001b[39m.\u001b[39;49msolve(a,b)\n\u001b[0;32m      <a href='vscode-notebook-cell:/c%3A/Users/rodri/OneDrive/Documentos/ESCOM/2%20SEMESTRE/ALGEBRA%20LINEAL/2do%20Parcial/Programa%20de%20combinaciones%20lineales/test_sistec.ipynb#ch0000001?line=3'>4</a>\u001b[0m \u001b[39mprint\u001b[39m(x)\n",
      "File \u001b[1;32m<__array_function__ internals>:180\u001b[0m, in \u001b[0;36msolve\u001b[1;34m(*args, **kwargs)\u001b[0m\n",
      "File \u001b[1;32m~\\AppData\\Local\\Programs\\Python\\Python310\\lib\\site-packages\\numpy\\linalg\\linalg.py:393\u001b[0m, in \u001b[0;36msolve\u001b[1;34m(a, b)\u001b[0m\n\u001b[0;32m    <a href='file:///c%3A/Users/rodri/AppData/Local/Programs/Python/Python310/lib/site-packages/numpy/linalg/linalg.py?line=390'>391</a>\u001b[0m signature \u001b[39m=\u001b[39m \u001b[39m'\u001b[39m\u001b[39mDD->D\u001b[39m\u001b[39m'\u001b[39m \u001b[39mif\u001b[39;00m isComplexType(t) \u001b[39melse\u001b[39;00m \u001b[39m'\u001b[39m\u001b[39mdd->d\u001b[39m\u001b[39m'\u001b[39m\n\u001b[0;32m    <a href='file:///c%3A/Users/rodri/AppData/Local/Programs/Python/Python310/lib/site-packages/numpy/linalg/linalg.py?line=391'>392</a>\u001b[0m extobj \u001b[39m=\u001b[39m get_linalg_error_extobj(_raise_linalgerror_singular)\n\u001b[1;32m--> <a href='file:///c%3A/Users/rodri/AppData/Local/Programs/Python/Python310/lib/site-packages/numpy/linalg/linalg.py?line=392'>393</a>\u001b[0m r \u001b[39m=\u001b[39m gufunc(a, b, signature\u001b[39m=\u001b[39;49msignature, extobj\u001b[39m=\u001b[39;49mextobj)\n\u001b[0;32m    <a href='file:///c%3A/Users/rodri/AppData/Local/Programs/Python/Python310/lib/site-packages/numpy/linalg/linalg.py?line=394'>395</a>\u001b[0m \u001b[39mreturn\u001b[39;00m wrap(r\u001b[39m.\u001b[39mastype(result_t, copy\u001b[39m=\u001b[39m\u001b[39mFalse\u001b[39;00m))\n",
      "File \u001b[1;32m~\\AppData\\Local\\Programs\\Python\\Python310\\lib\\site-packages\\numpy\\linalg\\linalg.py:88\u001b[0m, in \u001b[0;36m_raise_linalgerror_singular\u001b[1;34m(err, flag)\u001b[0m\n\u001b[0;32m     <a href='file:///c%3A/Users/rodri/AppData/Local/Programs/Python/Python310/lib/site-packages/numpy/linalg/linalg.py?line=86'>87</a>\u001b[0m \u001b[39mdef\u001b[39;00m \u001b[39m_raise_linalgerror_singular\u001b[39m(err, flag):\n\u001b[1;32m---> <a href='file:///c%3A/Users/rodri/AppData/Local/Programs/Python/Python310/lib/site-packages/numpy/linalg/linalg.py?line=87'>88</a>\u001b[0m     \u001b[39mraise\u001b[39;00m LinAlgError(\u001b[39m\"\u001b[39m\u001b[39mSingular matrix\u001b[39m\u001b[39m\"\u001b[39m)\n",
      "\u001b[1;31mLinAlgError\u001b[0m: Singular matrix"
     ]
    }
   ],
   "source": [
    "a = np.array([[1,2,3], [4,5,6], [2,7,12]])\n",
    "b = np.array([9,24,30])\n",
    "x = np.linalg.solve(a,b)\n",
    "print(x)"
   ]
  },
  {
   "cell_type": "code",
   "execution_count": 1,
   "metadata": {},
   "outputs": [
    {
     "name": "stdout",
     "output_type": "stream",
     "text": [
      "Error\n"
     ]
    }
   ],
   "source": [
    "try:\n",
    "    a = np.array([[1,2,3], [4,5,6], [2,7,12]])\n",
    "    b = np.array([9,24,30])\n",
    "    x = np.linalg.solve(a,b)\n",
    "    print(x)\n",
    "\n",
    "except:\n",
    "    print(\"Error\")"
   ]
  }
 ],
 "metadata": {
  "interpreter": {
   "hash": "9a40a8c90788aa8c67c772331b221cc283f52ae33dfea325d8c15eb865b2b2f3"
  },
  "kernelspec": {
   "display_name": "Python 3.10.0 64-bit",
   "language": "python",
   "name": "python3"
  },
  "language_info": {
   "codemirror_mode": {
    "name": "ipython",
    "version": 3
   },
   "file_extension": ".py",
   "mimetype": "text/x-python",
   "name": "python",
   "nbconvert_exporter": "python",
   "pygments_lexer": "ipython3",
   "version": "3.10.0"
  },
  "orig_nbformat": 4
 },
 "nbformat": 4,
 "nbformat_minor": 2
}
