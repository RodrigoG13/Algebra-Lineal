{
 "cells": [
  {
   "cell_type": "code",
   "execution_count": 31,
   "metadata": {},
   "outputs": [],
   "source": [
    "from sympy import symbols"
   ]
  },
  {
   "cell_type": "code",
   "execution_count": 22,
   "metadata": {},
   "outputs": [
    {
     "name": "stdout",
     "output_type": "stream",
     "text": [
      "['₁', '₂', '₃', '₄', '₅', '₆', '₇', '₈', '₉', '₁₀', '₁₁', '₁₂', '₁₃', '₁₄', '₁₅', '₁₆', '₁₇', '₁₈', '₁₉', '₂₀', '₂₁', '₂₂', '₂₃', '₂₄', '₂₅', '₂₆', '₂₇']\n"
     ]
    }
   ],
   "source": [
    "subindices = [\"\\u2081\", \"\\u2082\", \"\\u2083\", \"\\u2084\", \"\\u2085\", \"\\u2086\", \"\\u2087\", \"\\u2088\",\n",
    "            \"\\u2089\", \"\\u2081\\u2080\", \"\\u2081\\u2081\", \"\\u2081\\u2082\", \"\\u2081\\u2083\",\n",
    "            \"\\u2081\\u2084\", \"\\u2081\\u2085\", \"\\u2081\\u2086\", \"\\u2081\\u2087\", \"\\u2081\\u2088\",\n",
    "            \"\\u2081\\u2089\", \"\\u2082\\u2080\", \"\\u2082\\u2081\", \"\\u2082\\u2082\", \"\\u2082\\u2083\",\n",
    "            \"\\u2082\\u2084\", \"\\u2082\\u2085\", \"\\u2082\\u2086\", \"\\u2082\\u2087\"]\n",
    "            \n",
    "print(subindices)"
   ]
  },
  {
   "cell_type": "code",
   "execution_count": 23,
   "metadata": {},
   "outputs": [
    {
     "name": "stdout",
     "output_type": "stream",
     "text": [
      "['¹', '²', '³', '⁴', '⁵', '⁶', '⁷', '⁸', '⁹', '¹⁰', '¹¹', '¹²', '¹³', '¹₄', '¹⁵', '¹⁶', '¹⁷', '¹⁸', '¹⁹', '²⁰', '²¹', '²²', '²³', '²⁴', '²⁵', '²⁶', '²⁷']\n"
     ]
    }
   ],
   "source": [
    "superindices = [\"\\u00b9\", \"\\u00b2\", \"\\u00b3\", \"\\u2074\", \"\\u2075\", \"\\u2076\", \"\\u2077\", \"\\u2078\",\n",
    "            \"\\u2079\", \"\\u00b9\\u2070\", \"\\u00b9\\u00b9\", \"\\u00b9\\u00b2\", \"\\u00b9\\u00b3\",\n",
    "            \"\\u00b9\\u2084\", \"\\u00b9\\u2075\", \"\\u00b9\\u2076\", \"\\u00b9\\u2077\", \"\\u00b9\\u2078\",\n",
    "            \"\\u00b9\\u2079\", \"\\u00b2\\u2070\", \"\\u00b2\\u00b9\", \"\\u00b2\\u00b2\", \"\\u00b2\\u00b3\",\n",
    "            \"\\u00b2\\u2074\", \"\\u00b2\\u2075\", \"\\u00b2\\u2076\", \"\\u00b2\\u2077\"]\n",
    "            \n",
    "print(superindices)"
   ]
  },
  {
   "cell_type": "code",
   "execution_count": 24,
   "metadata": {},
   "outputs": [
    {
     "data": {
      "text/plain": [
       "<function print>"
      ]
     },
     "execution_count": 24,
     "metadata": {},
     "output_type": "execute_result"
    }
   ],
   "source": [
    "print"
   ]
  },
  {
   "cell_type": "code",
   "execution_count": 25,
   "metadata": {},
   "outputs": [
    {
     "name": "stdout",
     "output_type": "stream",
     "text": [
      "-1\n",
      "-2\n",
      "-3\n",
      "-4\n",
      "-5\n",
      "-6\n",
      "-7\n",
      "-8\n",
      "-9\n",
      "-10\n",
      "-11\n",
      "-12\n",
      "-13\n",
      "-14\n",
      "-15\n",
      "-16\n",
      "-17\n",
      "-18\n",
      "-19\n",
      "-20\n",
      "-21\n",
      "-22\n",
      "-23\n",
      "-24\n",
      "-25\n",
      "-26\n",
      "-27\n"
     ]
    }
   ],
   "source": [
    "for i in range(1, 28):\n",
    "    print(-i)"
   ]
  },
  {
   "cell_type": "code",
   "execution_count": 33,
   "metadata": {},
   "outputs": [
    {
     "name": "stdout",
     "output_type": "stream",
     "text": [
      "['a', 'b', 'c', 'd', 'e', 'f', 'g', 'h', 'i', 'j', 'k', 'l', 'm', 'n', 'o', 'p', 'q', 'r', 's', 't', 'u', 'v', 'w', 'x', 'y', 'z']\n"
     ]
    }
   ],
   "source": [
    "simbolos = []\n",
    "for i in range(97, 123):\n",
    "    simbolos.append(chr(i))\n",
    "print(simbolos)"
   ]
  },
  {
   "cell_type": "code",
   "execution_count": 40,
   "metadata": {},
   "outputs": [],
   "source": [
    "cte = 3"
   ]
  },
  {
   "cell_type": "code",
   "execution_count": 41,
   "metadata": {},
   "outputs": [
    {
     "name": "stdout",
     "output_type": "stream",
     "text": [
      "['x', 'y', 'z']\n"
     ]
    }
   ],
   "source": [
    "print(simbolos[len(simbolos)-cte: ])"
   ]
  },
  {
   "cell_type": "code",
   "execution_count": 30,
   "metadata": {},
   "outputs": [
    {
     "data": {
      "text/plain": [
       "['₂₄', '₂₅', '₂₆']"
      ]
     },
     "execution_count": 30,
     "metadata": {},
     "output_type": "execute_result"
    }
   ],
   "source": [
    "subindices[-4:-1]"
   ]
  },
  {
   "cell_type": "code",
   "execution_count": 2,
   "metadata": {},
   "outputs": [],
   "source": [
    "matrix = [[1.0, -6.0, -5.0, -0.0, -1.0], [-0.0, 1.0, 1.0, -0.05, 0.1], \n",
    "[0.0, 0.0, 0.0, 2.4000000000000004, 1.1999999999999997], [0.0, 0.0, 0.0, 1.0, 1.0]]"
   ]
  },
  {
   "cell_type": "code",
   "execution_count": 8,
   "metadata": {},
   "outputs": [
    {
     "name": "stdout",
     "output_type": "stream",
     "text": [
      "[0.0, 0.0, 0.0]\n",
      "[0.0, 0.0, 0.0]\n",
      "[2.4000000000000004, 1.1999999999999997]\n",
      "[1.0, 1.0]\n"
     ]
    }
   ],
   "source": [
    "print(matrix[-2][0:-2])\n",
    "print(matrix[-1][0:-2])\n",
    "print(matrix[-2][-2:])\n",
    "print(matrix[-1][-2:])"
   ]
  }
 ],
 "metadata": {
  "interpreter": {
   "hash": "9a40a8c90788aa8c67c772331b221cc283f52ae33dfea325d8c15eb865b2b2f3"
  },
  "kernelspec": {
   "display_name": "Python 3.10.0 64-bit",
   "language": "python",
   "name": "python3"
  },
  "language_info": {
   "codemirror_mode": {
    "name": "ipython",
    "version": 3
   },
   "file_extension": ".py",
   "mimetype": "text/x-python",
   "name": "python",
   "nbconvert_exporter": "python",
   "pygments_lexer": "ipython3",
   "version": "3.10.0"
  },
  "orig_nbformat": 4
 },
 "nbformat": 4,
 "nbformat_minor": 2
}
